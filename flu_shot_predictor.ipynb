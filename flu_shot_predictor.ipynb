{
 "cells": [
  {
   "cell_type": "code",
   "execution_count": 228,
   "metadata": {},
   "outputs": [],
   "source": [
    "import pandas as pd\n",
    "import numpy as np"
   ]
  },
  {
   "cell_type": "code",
   "execution_count": 384,
   "metadata": {},
   "outputs": [],
   "source": [
    "df = pd.read_csv(r'C:\\Users\\Akash Memon\\Documents/training_set_features.csv')"
   ]
  },
  {
   "cell_type": "code",
   "execution_count": 230,
   "metadata": {},
   "outputs": [],
   "source": [
    "df.drop('employment_occupation' , axis=1, inplace=True)"
   ]
  },
  {
   "cell_type": "code",
   "execution_count": 231,
   "metadata": {},
   "outputs": [],
   "source": [
    "df.drop('employment_industry' , axis=1, inplace=True)"
   ]
  },
  {
   "cell_type": "code",
   "execution_count": 232,
   "metadata": {},
   "outputs": [],
   "source": [
    "age_group = pd.get_dummies(df['age_group'], drop_first=False)\n",
    "age_group.drop('65+ Years', axis = 1, inplace=True)"
   ]
  },
  {
   "cell_type": "code",
   "execution_count": 233,
   "metadata": {},
   "outputs": [],
   "source": [
    "test_data = df.drop('age_group', axis =1 , inplace=True)\n",
    "test_data = pd.concat([age_group, df], axis =1 )"
   ]
  },
  {
   "cell_type": "code",
   "execution_count": 234,
   "metadata": {},
   "outputs": [
    {
     "data": {
      "text/plain": [
       "array(['< 12 Years', '12 Years', 'College Graduate', 'Some College', nan],\n",
       "      dtype=object)"
      ]
     },
     "execution_count": 234,
     "metadata": {},
     "output_type": "execute_result"
    }
   ],
   "source": [
    "df['education'].unique()"
   ]
  },
  {
   "cell_type": "code",
   "execution_count": 235,
   "metadata": {},
   "outputs": [],
   "source": [
    "age = pd.get_dummies(df['education'], drop_first=False)"
   ]
  },
  {
   "cell_type": "code",
   "execution_count": 236,
   "metadata": {},
   "outputs": [],
   "source": [
    "age.drop('Some College', axis = 1, inplace=True)"
   ]
  },
  {
   "cell_type": "code",
   "execution_count": 237,
   "metadata": {},
   "outputs": [],
   "source": [
    "test_data = pd.concat([age, test_data], axis = 1)\n",
    "test_data.drop('education', axis = 1, inplace = True)"
   ]
  },
  {
   "cell_type": "code",
   "execution_count": 238,
   "metadata": {},
   "outputs": [
    {
     "data": {
      "text/plain": [
       "array(['White', 'Black', 'Other or Multiple', 'Hispanic'], dtype=object)"
      ]
     },
     "execution_count": 238,
     "metadata": {},
     "output_type": "execute_result"
    }
   ],
   "source": [
    "test_data['race'].unique()"
   ]
  },
  {
   "cell_type": "code",
   "execution_count": 239,
   "metadata": {},
   "outputs": [],
   "source": [
    "race = pd.get_dummies(df['race'], drop_first=False)"
   ]
  },
  {
   "cell_type": "code",
   "execution_count": 240,
   "metadata": {},
   "outputs": [],
   "source": [
    "race.drop('Other or Multiple', axis = 1, inplace=True)\n",
    "test_data.drop('race', axis = 1, inplace=True)\n",
    "test_data = pd.concat([race, test_data], axis =1 )"
   ]
  },
  {
   "cell_type": "code",
   "execution_count": 241,
   "metadata": {},
   "outputs": [],
   "source": [
    "sex = pd.get_dummies(df['sex'], drop_first=False)\n"
   ]
  },
  {
   "cell_type": "code",
   "execution_count": 242,
   "metadata": {},
   "outputs": [],
   "source": [
    "test_data.drop('sex', axis = 1, inplace=True)\n",
    "test_data = pd.concat([sex, test_data], axis =1 )\n"
   ]
  },
  {
   "cell_type": "code",
   "execution_count": 243,
   "metadata": {},
   "outputs": [],
   "source": [
    "income_poverty = pd.get_dummies(df['income_poverty'], drop_first=True)"
   ]
  },
  {
   "cell_type": "code",
   "execution_count": 244,
   "metadata": {},
   "outputs": [],
   "source": [
    "test_data.drop('income_poverty', axis = 1, inplace=True)\n",
    "test_data = pd.concat([income_poverty, test_data], axis =1 )\n"
   ]
  },
  {
   "cell_type": "code",
   "execution_count": 245,
   "metadata": {},
   "outputs": [
    {
     "data": {
      "text/plain": [
       "array(['Not Married', 'Married', nan], dtype=object)"
      ]
     },
     "execution_count": 245,
     "metadata": {},
     "output_type": "execute_result"
    }
   ],
   "source": [
    "test_data['marital_status'].unique()"
   ]
  },
  {
   "cell_type": "code",
   "execution_count": 246,
   "metadata": {},
   "outputs": [],
   "source": [
    "marital_status = pd.get_dummies(df['marital_status'], drop_first=False)"
   ]
  },
  {
   "cell_type": "code",
   "execution_count": 247,
   "metadata": {},
   "outputs": [],
   "source": [
    "marital_status.drop('Not Married', axis =1 , inplace=True)\n",
    "test_data.drop('marital_status', axis = 1, inplace=True)\n",
    "test_data = pd.concat([marital_status, test_data], axis =1 )"
   ]
  },
  {
   "cell_type": "code",
   "execution_count": 248,
   "metadata": {},
   "outputs": [
    {
     "data": {
      "text/plain": [
       "array(['Own', 'Rent', nan], dtype=object)"
      ]
     },
     "execution_count": 248,
     "metadata": {},
     "output_type": "execute_result"
    }
   ],
   "source": [
    "test_data['rent_or_own'].unique()"
   ]
  },
  {
   "cell_type": "code",
   "execution_count": 249,
   "metadata": {},
   "outputs": [],
   "source": [
    "rent_or_own = pd.get_dummies(df['rent_or_own'], drop_first=False)"
   ]
  },
  {
   "cell_type": "code",
   "execution_count": 250,
   "metadata": {},
   "outputs": [],
   "source": [
    "rent_or_own.drop(\"Rent\", axis =1, inplace=True)"
   ]
  },
  {
   "cell_type": "code",
   "execution_count": 251,
   "metadata": {},
   "outputs": [],
   "source": [
    "test_data.drop('rent_or_own', axis = 1, inplace=True)\n",
    "test_data = pd.concat([rent_or_own, test_data], axis =1 )"
   ]
  },
  {
   "cell_type": "code",
   "execution_count": 252,
   "metadata": {},
   "outputs": [
    {
     "data": {
      "text/plain": [
       "array(['Not in Labor Force', 'Employed', 'Unemployed', nan], dtype=object)"
      ]
     },
     "execution_count": 252,
     "metadata": {},
     "output_type": "execute_result"
    }
   ],
   "source": [
    "test_data['employment_status'].unique()"
   ]
  },
  {
   "cell_type": "code",
   "execution_count": 253,
   "metadata": {},
   "outputs": [],
   "source": [
    "employment_status = pd.get_dummies(df['employment_status'], drop_first=False)"
   ]
  },
  {
   "cell_type": "code",
   "execution_count": 254,
   "metadata": {},
   "outputs": [],
   "source": [
    "employment_status.drop('Unemployed', axis =1 , inplace=True)\n",
    "test_data.drop('employment_status', axis = 1, inplace=True)\n",
    "test_data = pd.concat([employment_status, test_data], axis =1 )"
   ]
  },
  {
   "cell_type": "code",
   "execution_count": 255,
   "metadata": {},
   "outputs": [],
   "source": [
    "test_data.rename(columns = {'Own':'owns_house'}, inplace=True)"
   ]
  },
  {
   "cell_type": "code",
   "execution_count": 256,
   "metadata": {},
   "outputs": [
    {
     "data": {
      "text/plain": [
       "array(['oxchjgsf', 'bhuqouqj', 'qufhixun', 'lrircsnp', 'atmpeygn',\n",
       "       'lzgpxyit', 'fpwskwrf', 'mlyzmhmf', 'dqpwygqj', 'kbazzjca'],\n",
       "      dtype=object)"
      ]
     },
     "execution_count": 256,
     "metadata": {},
     "output_type": "execute_result"
    }
   ],
   "source": [
    "test_data['hhs_geo_region'].unique()"
   ]
  },
  {
   "cell_type": "code",
   "execution_count": 257,
   "metadata": {},
   "outputs": [],
   "source": [
    "test_data.drop('hhs_geo_region', axis=1, inplace=True)"
   ]
  },
  {
   "cell_type": "code",
   "execution_count": 258,
   "metadata": {},
   "outputs": [
    {
     "data": {
      "text/plain": [
       "array(['Non-MSA', 'MSA, Not Principle  City', 'MSA, Principle City'],\n",
       "      dtype=object)"
      ]
     },
     "execution_count": 258,
     "metadata": {},
     "output_type": "execute_result"
    }
   ],
   "source": [
    "test_data['census_msa'].unique()"
   ]
  },
  {
   "cell_type": "code",
   "execution_count": 259,
   "metadata": {},
   "outputs": [],
   "source": [
    "census_msa = pd.get_dummies(df['census_msa'], drop_first=True)"
   ]
  },
  {
   "cell_type": "code",
   "execution_count": 260,
   "metadata": {},
   "outputs": [],
   "source": [
    "test_data.drop('census_msa', axis = 1, inplace=True)\n",
    "test_data = pd.concat([census_msa, test_data], axis =1 )"
   ]
  },
  {
   "cell_type": "code",
   "execution_count": 262,
   "metadata": {},
   "outputs": [],
   "source": [
    "respondent_id = test_data['respondent_id']\n",
    "test_data.drop('respondent_id', axis = 1, inplace=True)\n",
    "test_data.insert(0, 'respondent_id', respondent_id)\n",
    "#pre-processing"
   ]
  },
  {
   "cell_type": "code",
   "execution_count": 263,
   "metadata": {},
   "outputs": [],
   "source": [
    "from sklearn.model_selection import train_test_split"
   ]
  },
  {
   "cell_type": "code",
   "execution_count": 265,
   "metadata": {},
   "outputs": [],
   "source": [
    "features = test_data.iloc[:,1:45]"
   ]
  },
  {
   "cell_type": "code",
   "execution_count": 266,
   "metadata": {},
   "outputs": [],
   "source": [
    "labels = pd.read_csv(r'C:\\Users\\Akash Memon\\Documents/training_set_labels.csv')\n",
    "h1n1_labels = labels.iloc[:,1:2]\n",
    "for column in features.columns:\n",
    "    features[column].fillna(test_data[column].median(), inplace=True)\n",
    "#handle missing values"
   ]
  },
  {
   "cell_type": "code",
   "execution_count": 267,
   "metadata": {},
   "outputs": [],
   "source": [
    "x_train, x_test, y_train, y_test = train_test_split(features, h1n1_labels, test_size = 0.33);"
   ]
  },
  {
   "cell_type": "code",
   "execution_count": 268,
   "metadata": {},
   "outputs": [],
   "source": [
    "from sklearn.ensemble import RandomForestClassifier"
   ]
  },
  {
   "cell_type": "code",
   "execution_count": 269,
   "metadata": {},
   "outputs": [
    {
     "data": {
      "text/plain": [
       "RandomForestClassifier(bootstrap=True, ccp_alpha=0.0, class_weight=None,\n",
       "                       criterion='gini', max_depth=None, max_features='auto',\n",
       "                       max_leaf_nodes=None, max_samples=None,\n",
       "                       min_impurity_decrease=0.0, min_impurity_split=None,\n",
       "                       min_samples_leaf=1, min_samples_split=2,\n",
       "                       min_weight_fraction_leaf=0.0, n_estimators=250,\n",
       "                       n_jobs=None, oob_score=False, random_state=42, verbose=0,\n",
       "                       warm_start=False)"
      ]
     },
     "execution_count": 269,
     "metadata": {},
     "output_type": "execute_result"
    }
   ],
   "source": [
    "h1n1_random_forest = RandomForestClassifier(n_estimators=250, random_state=42)\n",
    "h1n1_random_forest.fit(x_train, y_train.values.ravel())"
   ]
  },
  {
   "cell_type": "code",
   "execution_count": 276,
   "metadata": {},
   "outputs": [],
   "source": [
    "from sklearn.metrics import roc_curve\n",
    "from sklearn.metrics import roc_auc_score"
   ]
  },
  {
   "cell_type": "code",
   "execution_count": 278,
   "metadata": {},
   "outputs": [],
   "source": [
    "h1n1_probs = h1n1_random_forest.predict_proba(x_test)"
   ]
  },
  {
   "cell_type": "code",
   "execution_count": 279,
   "metadata": {},
   "outputs": [
    {
     "name": "stdout",
     "output_type": "stream",
     "text": [
      "[[0.852 0.148]\n",
      " [0.788 0.212]\n",
      " [0.856 0.144]\n",
      " ...\n",
      " [0.896 0.104]\n",
      " [0.968 0.032]\n",
      " [0.904 0.096]]\n"
     ]
    }
   ],
   "source": [
    "print(h1n1_probs)"
   ]
  },
  {
   "cell_type": "code",
   "execution_count": 280,
   "metadata": {},
   "outputs": [],
   "source": [
    "h1n1_probs = h1n1_probs[:, 1]\n",
    "h1n1_auc = roc_auc_score(y_test, h1n1_probs)"
   ]
  },
  {
   "cell_type": "code",
   "execution_count": 281,
   "metadata": {},
   "outputs": [
    {
     "data": {
      "text/plain": [
       "0.8203199891667385"
      ]
     },
     "execution_count": 281,
     "metadata": {},
     "output_type": "execute_result"
    }
   ],
   "source": [
    "h1n1_auc"
   ]
  },
  {
   "cell_type": "code",
   "execution_count": 282,
   "metadata": {},
   "outputs": [
    {
     "data": {
      "text/html": [
       "<div>\n",
       "<style scoped>\n",
       "    .dataframe tbody tr th:only-of-type {\n",
       "        vertical-align: middle;\n",
       "    }\n",
       "\n",
       "    .dataframe tbody tr th {\n",
       "        vertical-align: top;\n",
       "    }\n",
       "\n",
       "    .dataframe thead th {\n",
       "        text-align: right;\n",
       "    }\n",
       "</style>\n",
       "<table border=\"1\" class=\"dataframe\">\n",
       "  <thead>\n",
       "    <tr style=\"text-align: right;\">\n",
       "      <th></th>\n",
       "      <th>seasonal_vaccine</th>\n",
       "    </tr>\n",
       "  </thead>\n",
       "  <tbody>\n",
       "    <tr>\n",
       "      <th>0</th>\n",
       "      <td>0</td>\n",
       "    </tr>\n",
       "    <tr>\n",
       "      <th>1</th>\n",
       "      <td>1</td>\n",
       "    </tr>\n",
       "    <tr>\n",
       "      <th>2</th>\n",
       "      <td>0</td>\n",
       "    </tr>\n",
       "    <tr>\n",
       "      <th>3</th>\n",
       "      <td>1</td>\n",
       "    </tr>\n",
       "    <tr>\n",
       "      <th>4</th>\n",
       "      <td>0</td>\n",
       "    </tr>\n",
       "  </tbody>\n",
       "</table>\n",
       "</div>"
      ],
      "text/plain": [
       "   seasonal_vaccine\n",
       "0                 0\n",
       "1                 1\n",
       "2                 0\n",
       "3                 1\n",
       "4                 0"
      ]
     },
     "execution_count": 282,
     "metadata": {},
     "output_type": "execute_result"
    }
   ],
   "source": [
    "seasonal_labels = labels.iloc[:,2:3]\n",
    "seasonal_labels.head()"
   ]
  },
  {
   "cell_type": "code",
   "execution_count": 283,
   "metadata": {},
   "outputs": [],
   "source": [
    "x_train, x_test, y_train, y_test = train_test_split(features, seasonal_labels, test_size = 0.33);"
   ]
  },
  {
   "cell_type": "code",
   "execution_count": 284,
   "metadata": {},
   "outputs": [
    {
     "data": {
      "text/plain": [
       "RandomForestClassifier(bootstrap=True, ccp_alpha=0.0, class_weight=None,\n",
       "                       criterion='gini', max_depth=None, max_features='auto',\n",
       "                       max_leaf_nodes=None, max_samples=None,\n",
       "                       min_impurity_decrease=0.0, min_impurity_split=None,\n",
       "                       min_samples_leaf=1, min_samples_split=2,\n",
       "                       min_weight_fraction_leaf=0.0, n_estimators=250,\n",
       "                       n_jobs=None, oob_score=False, random_state=42, verbose=0,\n",
       "                       warm_start=False)"
      ]
     },
     "execution_count": 284,
     "metadata": {},
     "output_type": "execute_result"
    }
   ],
   "source": [
    "seasonal_random_forest = RandomForestClassifier(n_estimators=250, random_state=42)\n",
    "seasonal_random_forest.fit(x_train, y_train.values.ravel())"
   ]
  },
  {
   "cell_type": "code",
   "execution_count": 285,
   "metadata": {},
   "outputs": [],
   "source": [
    "seasonal_probs = seasonal_random_forest.predict_proba(x_test)"
   ]
  },
  {
   "cell_type": "code",
   "execution_count": 286,
   "metadata": {},
   "outputs": [
    {
     "name": "stdout",
     "output_type": "stream",
     "text": [
      "[[0.552 0.448]\n",
      " [0.704 0.296]\n",
      " [0.846 0.154]\n",
      " ...\n",
      " [0.728 0.272]\n",
      " [0.508 0.492]\n",
      " [0.04  0.96 ]]\n"
     ]
    }
   ],
   "source": [
    "print(seasonal_probs)"
   ]
  },
  {
   "cell_type": "code",
   "execution_count": 287,
   "metadata": {},
   "outputs": [],
   "source": [
    "seasonal_probs = seasonal_probs[:, 1]\n",
    "seasonal_auc = roc_auc_score(y_test, seasonal_probs)"
   ]
  },
  {
   "cell_type": "code",
   "execution_count": 288,
   "metadata": {},
   "outputs": [
    {
     "name": "stdout",
     "output_type": "stream",
     "text": [
      "0.8436258390347194\n"
     ]
    }
   ],
   "source": [
    "print(seasonal_auc)"
   ]
  },
  {
   "cell_type": "code",
   "execution_count": 338,
   "metadata": {},
   "outputs": [],
   "source": [
    "test_features = pd.read_csv(r'C:\\Users\\Akash Memon\\Documents/test_set_features.csv')"
   ]
  },
  {
   "cell_type": "code",
   "execution_count": 339,
   "metadata": {},
   "outputs": [],
   "source": [
    "test_features.drop('employment_occupation' , axis=1, inplace=True)"
   ]
  },
  {
   "cell_type": "code",
   "execution_count": 340,
   "metadata": {},
   "outputs": [],
   "source": [
    "test_features.drop('employment_industry' , axis=1, inplace=True)"
   ]
  },
  {
   "cell_type": "code",
   "execution_count": 341,
   "metadata": {},
   "outputs": [],
   "source": [
    "age_group = pd.get_dummies(test_features['age_group'], drop_first=False)\n",
    "age_group.drop('65+ Years', axis = 1, inplace=True)"
   ]
  },
  {
   "cell_type": "code",
   "execution_count": 342,
   "metadata": {},
   "outputs": [],
   "source": [
    "test_data = test_features.drop('age_group', axis =1 , inplace=True)\n",
    "test_data = pd.concat([age_group, test_features], axis =1 )"
   ]
  },
  {
   "cell_type": "code",
   "execution_count": 343,
   "metadata": {},
   "outputs": [],
   "source": [
    "age = pd.get_dummies(test_features['education'], drop_first=False)"
   ]
  },
  {
   "cell_type": "code",
   "execution_count": 344,
   "metadata": {},
   "outputs": [],
   "source": [
    "age.drop('Some College', axis = 1, inplace=True)"
   ]
  },
  {
   "cell_type": "code",
   "execution_count": 345,
   "metadata": {},
   "outputs": [],
   "source": [
    "test_data = pd.concat([age, test_data], axis = 1)\n",
    "test_data.drop('education', axis = 1, inplace = True)"
   ]
  },
  {
   "cell_type": "code",
   "execution_count": 346,
   "metadata": {},
   "outputs": [],
   "source": [
    "race = pd.get_dummies(test_features['race'], drop_first=False)"
   ]
  },
  {
   "cell_type": "code",
   "execution_count": 347,
   "metadata": {},
   "outputs": [],
   "source": [
    "race.drop('Other or Multiple', axis = 1, inplace=True)\n",
    "test_data.drop('race', axis = 1, inplace=True)\n",
    "test_data = pd.concat([race, test_data], axis =1 )"
   ]
  },
  {
   "cell_type": "code",
   "execution_count": 348,
   "metadata": {},
   "outputs": [],
   "source": [
    "sex = pd.get_dummies(test_features['sex'], drop_first=False)\n"
   ]
  },
  {
   "cell_type": "code",
   "execution_count": 349,
   "metadata": {},
   "outputs": [],
   "source": [
    "test_data.drop('sex', axis = 1, inplace=True)\n",
    "test_data = pd.concat([sex, test_data], axis =1 )\n"
   ]
  },
  {
   "cell_type": "code",
   "execution_count": 350,
   "metadata": {},
   "outputs": [],
   "source": [
    "income_poverty = pd.get_dummies(test_features['income_poverty'], drop_first=True)"
   ]
  },
  {
   "cell_type": "code",
   "execution_count": 351,
   "metadata": {},
   "outputs": [],
   "source": [
    "test_data.drop('income_poverty', axis = 1, inplace=True)\n",
    "test_data = pd.concat([income_poverty, test_data], axis =1 )\n"
   ]
  },
  {
   "cell_type": "code",
   "execution_count": 352,
   "metadata": {},
   "outputs": [
    {
     "data": {
      "text/plain": [
       "array(['Not Married', 'Married', nan], dtype=object)"
      ]
     },
     "execution_count": 352,
     "metadata": {},
     "output_type": "execute_result"
    }
   ],
   "source": [
    "test_data['marital_status'].unique()"
   ]
  },
  {
   "cell_type": "code",
   "execution_count": 353,
   "metadata": {},
   "outputs": [],
   "source": [
    "marital_status = pd.get_dummies(test_features['marital_status'], drop_first=False)"
   ]
  },
  {
   "cell_type": "code",
   "execution_count": 354,
   "metadata": {},
   "outputs": [],
   "source": [
    "marital_status.drop('Not Married', axis =1 , inplace=True)\n",
    "test_data.drop('marital_status', axis = 1, inplace=True)\n",
    "test_data = pd.concat([marital_status, test_data], axis =1 )"
   ]
  },
  {
   "cell_type": "code",
   "execution_count": 355,
   "metadata": {},
   "outputs": [
    {
     "data": {
      "text/plain": [
       "array(['Rent', 'Own', nan], dtype=object)"
      ]
     },
     "execution_count": 355,
     "metadata": {},
     "output_type": "execute_result"
    }
   ],
   "source": [
    "test_data['rent_or_own'].unique()"
   ]
  },
  {
   "cell_type": "code",
   "execution_count": 356,
   "metadata": {},
   "outputs": [],
   "source": [
    "rent_or_own = pd.get_dummies(test_features['rent_or_own'], drop_first=False)"
   ]
  },
  {
   "cell_type": "code",
   "execution_count": 357,
   "metadata": {},
   "outputs": [],
   "source": [
    "rent_or_own.drop(\"Rent\", axis =1, inplace=True)"
   ]
  },
  {
   "cell_type": "code",
   "execution_count": 358,
   "metadata": {},
   "outputs": [],
   "source": [
    "test_data.drop('rent_or_own', axis = 1, inplace=True)\n",
    "test_data = pd.concat([rent_or_own, test_data], axis =1 )"
   ]
  },
  {
   "cell_type": "code",
   "execution_count": 359,
   "metadata": {},
   "outputs": [
    {
     "data": {
      "text/plain": [
       "array(['Employed', 'Not in Labor Force', 'Unemployed', nan], dtype=object)"
      ]
     },
     "execution_count": 359,
     "metadata": {},
     "output_type": "execute_result"
    }
   ],
   "source": [
    "test_data['employment_status'].unique()"
   ]
  },
  {
   "cell_type": "code",
   "execution_count": 360,
   "metadata": {},
   "outputs": [],
   "source": [
    "employment_status = pd.get_dummies(test_features['employment_status'], drop_first=False)"
   ]
  },
  {
   "cell_type": "code",
   "execution_count": 361,
   "metadata": {},
   "outputs": [],
   "source": [
    "employment_status.drop('Unemployed', axis =1 , inplace=True)\n",
    "test_data.drop('employment_status', axis = 1, inplace=True)\n",
    "test_data = pd.concat([employment_status, test_data], axis =1 )"
   ]
  },
  {
   "cell_type": "code",
   "execution_count": 362,
   "metadata": {},
   "outputs": [],
   "source": [
    "test_data.rename(columns = {'Own':'owns_house'}, inplace=True)"
   ]
  },
  {
   "cell_type": "code",
   "execution_count": 363,
   "metadata": {},
   "outputs": [
    {
     "data": {
      "text/plain": [
       "array(['mlyzmhmf', 'bhuqouqj', 'lrircsnp', 'lzgpxyit', 'fpwskwrf',\n",
       "       'oxchjgsf', 'dqpwygqj', 'qufhixun', 'kbazzjca', 'atmpeygn'],\n",
       "      dtype=object)"
      ]
     },
     "execution_count": 363,
     "metadata": {},
     "output_type": "execute_result"
    }
   ],
   "source": [
    "test_data['hhs_geo_region'].unique()"
   ]
  },
  {
   "cell_type": "code",
   "execution_count": 364,
   "metadata": {},
   "outputs": [],
   "source": [
    "test_data.drop('hhs_geo_region', axis=1, inplace=True)"
   ]
  },
  {
   "cell_type": "code",
   "execution_count": 365,
   "metadata": {},
   "outputs": [
    {
     "data": {
      "text/plain": [
       "array(['MSA, Not Principle  City', 'Non-MSA', 'MSA, Principle City'],\n",
       "      dtype=object)"
      ]
     },
     "execution_count": 365,
     "metadata": {},
     "output_type": "execute_result"
    }
   ],
   "source": [
    "test_data['census_msa'].unique()"
   ]
  },
  {
   "cell_type": "code",
   "execution_count": 366,
   "metadata": {},
   "outputs": [],
   "source": [
    "census_msa = pd.get_dummies(test_features['census_msa'], drop_first=True)"
   ]
  },
  {
   "cell_type": "code",
   "execution_count": 367,
   "metadata": {},
   "outputs": [],
   "source": [
    "test_data.drop('census_msa', axis = 1, inplace=True)\n",
    "test_data = pd.concat([census_msa, test_data], axis =1 )"
   ]
  },
  {
   "cell_type": "code",
   "execution_count": 368,
   "metadata": {},
   "outputs": [],
   "source": [
    "respondent_id = test_data['respondent_id']\n",
    "test_data.drop('respondent_id', axis = 1, inplace=True)"
   ]
  },
  {
   "cell_type": "code",
   "execution_count": 369,
   "metadata": {},
   "outputs": [],
   "source": [
    "for column in test_data.columns:\n",
    "    test_data[column].fillna(test_data[column].median(), inplace=True)"
   ]
  },
  {
   "cell_type": "code",
   "execution_count": 370,
   "metadata": {},
   "outputs": [],
   "source": [
    "h1n1_final_probs = h1n1_random_forest.predict_proba(test_data)"
   ]
  },
  {
   "cell_type": "code",
   "execution_count": 371,
   "metadata": {},
   "outputs": [
    {
     "name": "stdout",
     "output_type": "stream",
     "text": [
      "[[0.864 0.136]\n",
      " [0.972 0.028]\n",
      " [0.4   0.6  ]\n",
      " ...\n",
      " [0.908 0.092]\n",
      " [0.904 0.096]\n",
      " [0.476 0.524]]\n"
     ]
    }
   ],
   "source": [
    "print(h1n1_final_probs)"
   ]
  },
  {
   "cell_type": "code",
   "execution_count": 372,
   "metadata": {},
   "outputs": [],
   "source": [
    "seasonal_final_probs = seasonal_random_forest.predict_proba(test_data)"
   ]
  },
  {
   "cell_type": "code",
   "execution_count": 373,
   "metadata": {},
   "outputs": [
    {
     "name": "stdout",
     "output_type": "stream",
     "text": [
      "[[0.696 0.304]\n",
      " [0.984 0.016]\n",
      " [0.108 0.892]\n",
      " ...\n",
      " [0.72  0.28 ]\n",
      " [0.572 0.428]\n",
      " [0.256 0.744]]\n"
     ]
    }
   ],
   "source": [
    "print(seasonal_final_probs)"
   ]
  },
  {
   "cell_type": "code",
   "execution_count": 375,
   "metadata": {},
   "outputs": [],
   "source": [
    "submission_format = pd.read_csv(r'C:\\Users\\Akash Memon\\Documents/submission_format.csv')"
   ]
  },
  {
   "cell_type": "code",
   "execution_count": 377,
   "metadata": {},
   "outputs": [],
   "source": [
    "submission_format[\"h1n1_vaccine\"] = h1n1_final_probs[:, 1]\n",
    "submission_format[\"seasonal_vaccine\"] = seasonal_final_probs[:, 1]\n",
    "submission_format[\"h1n1_outcome\"] = [[] for _ in range(len(submission_format))]\n",
    "submission_format[\"seasonal_outcome\"] = [[] for _ in range(len(submission_format))]"
   ]
  },
  {
   "cell_type": "code",
   "execution_count": 378,
   "metadata": {},
   "outputs": [],
   "source": [
    "for i in range(len(submission_format)):\n",
    "    if(submission_format.at[i, 'h1n1_vaccine'] < 0.20):\n",
    "        submission_format.at[i, 'h1n1_outcome'] = 'Highly Unlikely'\n",
    "    elif(0.20 < submission_format.at[i, 'h1n1_vaccine'] < 0.40):\n",
    "        submission_format.at[i, 'h1n1_outcome'] = 'Unlikely'\n",
    "    elif(0.4 < submission_format.at[i, 'h1n1_vaccine'] < 0.6):\n",
    "        submission_format.at[i, 'h1n1_outcome'] = 'Uncertain'\n",
    "    elif(0.6 < submission_format.at[i, 'h1n1_vaccine'] < 0.8):\n",
    "        submission_format.at[i, 'h1n1_outcome'] = 'Likely'\n",
    "    else: submission_format.at[i, 'h1n1_outcome'] = 'Highly Likely'\n",
    "    \n",
    "        \n",
    "    if(submission_format.at[i, 'seasonal_vaccine'] < 0.20):\n",
    "        submission_format.at[i, 'seasonal_outcome'] = 'Highly Unlikely'\n",
    "    elif(0.2 < submission_format.at[i, 'seasonal_vaccine'] < 0.4):\n",
    "        submission_format.at[i, 'seasonal_outcome'] = 'Unlikely'\n",
    "    elif(0.4 < submission_format.at[i, 'seasonal_vaccine'] < 0.6):\n",
    "        submission_format.at[i, 'seasonal_outcome'] = 'Uncertain'\n",
    "    elif(0.6 < submission_format.at[i, 'seasonal_vaccine'] < 0.8):\n",
    "        submission_format.at[i, 'seasonal_outcome'] = 'Likely'\n",
    "    else: submission_format.at[i, 'seasonal_outcome'] = 'Highly Likely'\n"
   ]
  },
  {
   "cell_type": "code",
   "execution_count": 379,
   "metadata": {},
   "outputs": [],
   "source": [
    "#submission_format.to_csv('my_submission.csv', index = False)"
   ]
  },
  {
   "cell_type": "code",
   "execution_count": 380,
   "metadata": {
    "scrolled": true
   },
   "outputs": [],
   "source": [
    "test12 = pd.read_csv(r'C:\\Users\\Akash Memon\\Documents/test_set_features.csv')"
   ]
  },
  {
   "cell_type": "code",
   "execution_count": 381,
   "metadata": {},
   "outputs": [],
   "source": [
    "test12 = pd.concat([submission_format, test12], axis=1)"
   ]
  },
  {
   "cell_type": "code",
   "execution_count": 382,
   "metadata": {},
   "outputs": [],
   "source": [
    "test12.to_csv('testAI.csv', index=False)"
   ]
  }
 ],
 "metadata": {
  "kernelspec": {
   "display_name": "Python 3",
   "language": "python",
   "name": "python3"
  },
  "language_info": {
   "codemirror_mode": {
    "name": "ipython",
    "version": 3
   },
   "file_extension": ".py",
   "mimetype": "text/x-python",
   "name": "python",
   "nbconvert_exporter": "python",
   "pygments_lexer": "ipython3",
   "version": "3.8.2"
  }
 },
 "nbformat": 4,
 "nbformat_minor": 4
}
